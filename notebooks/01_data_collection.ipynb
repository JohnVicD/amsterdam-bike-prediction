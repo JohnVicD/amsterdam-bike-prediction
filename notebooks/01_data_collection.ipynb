{
 "cells": [
  {
   "cell_type": "markdown",
   "metadata": {},
   "source": [
    "# Amsterdam Bike Usage Prediction - Data Collection\n",
    "\n",
    "This notebook collects bike usage data and weather data."
   ]
  },
  {
   "cell_type": "code",
   "execution_count": 1,
   "metadata": {
    "ExecuteTime": {
     "end_time": "2025-01-29T23:26:59.965292Z",
     "start_time": "2025-01-29T23:26:58.611384Z"
    }
   },
   "outputs": [],
   "source": [
    "import sys\n",
    "sys.path.append('..')\n",
    "\n",
    "from src.data.collect_bike_data import BikeDataCollector\n",
    "from src.data.collect_weather_data import WeatherDataCollector\n",
    "from datetime import datetime, timedelta"
   ]
  },
  {
   "cell_type": "markdown",
   "metadata": {},
   "source": [
    "## 1. Collect Bike Data"
   ]
  },
  {
   "cell_type": "code",
   "execution_count": 2,
   "metadata": {
    "ExecuteTime": {
     "end_time": "2025-01-29T23:27:00.229157Z",
     "start_time": "2025-01-29T23:26:59.985349Z"
    }
   },
   "outputs": [
    {
     "name": "stdout",
     "output_type": "stream",
     "text": [
      "The number of records is :  2232\n",
      "Sample of bike data:\n"
     ]
    },
    {
     "data": {
      "text/html": [
       "<div>\n",
       "<style scoped>\n",
       "    .dataframe tbody tr th:only-of-type {\n",
       "        vertical-align: middle;\n",
       "    }\n",
       "\n",
       "    .dataframe tbody tr th {\n",
       "        vertical-align: top;\n",
       "    }\n",
       "\n",
       "    .dataframe thead th {\n",
       "        text-align: right;\n",
       "    }\n",
       "</style>\n",
       "<table border=\"1\" class=\"dataframe\">\n",
       "  <thead>\n",
       "    <tr style=\"text-align: right;\">\n",
       "      <th></th>\n",
       "      <th>timestamp</th>\n",
       "      <th>hour</th>\n",
       "      <th>day_of_week</th>\n",
       "      <th>month</th>\n",
       "      <th>count</th>\n",
       "      <th>location_id</th>\n",
       "    </tr>\n",
       "  </thead>\n",
       "  <tbody>\n",
       "    <tr>\n",
       "      <th>0</th>\n",
       "      <td>2024-12-31 04:56:59.990346</td>\n",
       "      <td>4</td>\n",
       "      <td>1</td>\n",
       "      <td>12</td>\n",
       "      <td>45</td>\n",
       "      <td>1</td>\n",
       "    </tr>\n",
       "    <tr>\n",
       "      <th>1</th>\n",
       "      <td>2024-12-31 05:56:59.990346</td>\n",
       "      <td>5</td>\n",
       "      <td>1</td>\n",
       "      <td>12</td>\n",
       "      <td>55</td>\n",
       "      <td>1</td>\n",
       "    </tr>\n",
       "    <tr>\n",
       "      <th>2</th>\n",
       "      <td>2024-12-31 06:56:59.990346</td>\n",
       "      <td>6</td>\n",
       "      <td>1</td>\n",
       "      <td>12</td>\n",
       "      <td>273</td>\n",
       "      <td>1</td>\n",
       "    </tr>\n",
       "    <tr>\n",
       "      <th>3</th>\n",
       "      <td>2024-12-31 07:56:59.990346</td>\n",
       "      <td>7</td>\n",
       "      <td>1</td>\n",
       "      <td>12</td>\n",
       "      <td>200</td>\n",
       "      <td>1</td>\n",
       "    </tr>\n",
       "    <tr>\n",
       "      <th>4</th>\n",
       "      <td>2024-12-31 08:56:59.990346</td>\n",
       "      <td>8</td>\n",
       "      <td>1</td>\n",
       "      <td>12</td>\n",
       "      <td>670</td>\n",
       "      <td>1</td>\n",
       "    </tr>\n",
       "  </tbody>\n",
       "</table>\n",
       "</div>"
      ],
      "text/plain": [
       "                   timestamp  hour  day_of_week  month  count  location_id\n",
       "0 2024-12-31 04:56:59.990346     4            1     12     45            1\n",
       "1 2024-12-31 05:56:59.990346     5            1     12     55            1\n",
       "2 2024-12-31 06:56:59.990346     6            1     12    273            1\n",
       "3 2024-12-31 07:56:59.990346     7            1     12    200            1\n",
       "4 2024-12-31 08:56:59.990346     8            1     12    670            1"
      ]
     },
     "metadata": {},
     "output_type": "display_data"
    },
    {
     "name": "stdout",
     "output_type": "stream",
     "text": [
      "Data saved to ../data/raw/bike_counts.csv\n"
     ]
    }
   ],
   "source": [
    "# Initialize bike data collector\n",
    "bike_collector = BikeDataCollector()\n",
    "\n",
    "# Set date range\n",
    "end_date = datetime.now()\n",
    "start_date = end_date - timedelta(days=30)\n",
    "\n",
    "# Get bike data\n",
    "bike_data = bike_collector.get_bike_counts(start_date, end_date)\n",
    "\n",
    "# Display sample\n",
    "print('The number of records is : ', len(bike_data))\n",
    "print(\"Sample of bike data:\")\n",
    "\n",
    "display(bike_data.head())\n",
    "\n",
    "# Save data\n",
    "bike_collector.save_data(bike_data, '../data/raw/bike_counts.csv')"
   ]
  },
  {
   "cell_type": "markdown",
   "metadata": {},
   "source": [
    "## 2. Collect Weather Data"
   ]
  },
  {
   "cell_type": "code",
   "execution_count": 4,
   "metadata": {
    "ExecuteTime": {
     "end_time": "2025-01-30T00:29:52.900679Z",
     "start_time": "2025-01-30T00:29:51.476425Z"
    }
   },
   "outputs": [
    {
     "name": "stdout",
     "output_type": "stream",
     "text": [
      "=== Input Validation ===\n",
      "Start date: 2024-12-31 03:04:04\n",
      "End date: 2025-01-31 02:04:04\n",
      "Total days: 31\n",
      "Expected hours: 743.00\n",
      "\n",
      "=== Collecting Daily Weather Data ===\n",
      "Fetching daily weather data...\n",
      "\n",
      "Got 29 days of data\n",
      "Daily data date range:\n",
      "Start: 2024-12-31 00:00:00\n",
      "End: 2025-01-28 00:00:00\n",
      "\n",
      "Daily data sample:\n"
     ]
    },
    {
     "data": {
      "text/html": [
       "<div>\n",
       "<style scoped>\n",
       "    .dataframe tbody tr th:only-of-type {\n",
       "        vertical-align: middle;\n",
       "    }\n",
       "\n",
       "    .dataframe tbody tr th {\n",
       "        vertical-align: top;\n",
       "    }\n",
       "\n",
       "    .dataframe thead th {\n",
       "        text-align: right;\n",
       "    }\n",
       "</style>\n",
       "<table border=\"1\" class=\"dataframe\">\n",
       "  <thead>\n",
       "    <tr style=\"text-align: right;\">\n",
       "      <th></th>\n",
       "      <th>timestamp</th>\n",
       "      <th>temperature</th>\n",
       "      <th>rain</th>\n",
       "      <th>wind_speed</th>\n",
       "      <th>cloud_cover</th>\n",
       "    </tr>\n",
       "  </thead>\n",
       "  <tbody>\n",
       "    <tr>\n",
       "      <th>0</th>\n",
       "      <td>2024-12-31</td>\n",
       "      <td>5.5</td>\n",
       "      <td>0.0</td>\n",
       "      <td>8.9</td>\n",
       "      <td>8</td>\n",
       "    </tr>\n",
       "    <tr>\n",
       "      <th>1</th>\n",
       "      <td>2025-01-01</td>\n",
       "      <td>7.8</td>\n",
       "      <td>20.9</td>\n",
       "      <td>11.6</td>\n",
       "      <td>8</td>\n",
       "    </tr>\n",
       "    <tr>\n",
       "      <th>2</th>\n",
       "      <td>2025-01-02</td>\n",
       "      <td>3.2</td>\n",
       "      <td>2.8</td>\n",
       "      <td>3.0</td>\n",
       "      <td>4</td>\n",
       "    </tr>\n",
       "    <tr>\n",
       "      <th>3</th>\n",
       "      <td>2025-01-03</td>\n",
       "      <td>2.7</td>\n",
       "      <td>2.1</td>\n",
       "      <td>4.9</td>\n",
       "      <td>7</td>\n",
       "    </tr>\n",
       "    <tr>\n",
       "      <th>4</th>\n",
       "      <td>2025-01-04</td>\n",
       "      <td>2.3</td>\n",
       "      <td>1.4</td>\n",
       "      <td>3.7</td>\n",
       "      <td>8</td>\n",
       "    </tr>\n",
       "  </tbody>\n",
       "</table>\n",
       "</div>"
      ],
      "text/plain": [
       "   timestamp  temperature  rain  wind_speed  cloud_cover\n",
       "0 2024-12-31          5.5   0.0         8.9            8\n",
       "1 2025-01-01          7.8  20.9        11.6            8\n",
       "2 2025-01-02          3.2   2.8         3.0            4\n",
       "3 2025-01-03          2.7   2.1         4.9            7\n",
       "4 2025-01-04          2.3   1.4         3.7            8"
      ]
     },
     "metadata": {},
     "output_type": "display_data"
    },
    {
     "name": "stdout",
     "output_type": "stream",
     "text": [
      "\n",
      "=== Converting to Hourly Data ===\n",
      "\n",
      "Converting 29 days to hourly data...\n",
      "Created hourly range from 2024-12-31 03:04:04 to 2025-01-31 02:04:04\n",
      "Total hours: 744\n",
      "Created 744 hourly records\n",
      "\n",
      "=== Final Data Validation ===\n",
      "Total records: 744\n",
      "\n",
      "Timestamp Analysis:\n",
      "First timestamp: 2024-12-31 03:04:04\n",
      "Last timestamp: 2025-01-31 02:04:04\n",
      "Number of unique days: 32\n",
      "Hours per day: 23.25\n",
      "\n",
      "Hourly data sample:\n"
     ]
    },
    {
     "data": {
      "text/html": [
       "<div>\n",
       "<style scoped>\n",
       "    .dataframe tbody tr th:only-of-type {\n",
       "        vertical-align: middle;\n",
       "    }\n",
       "\n",
       "    .dataframe tbody tr th {\n",
       "        vertical-align: top;\n",
       "    }\n",
       "\n",
       "    .dataframe thead th {\n",
       "        text-align: right;\n",
       "    }\n",
       "</style>\n",
       "<table border=\"1\" class=\"dataframe\">\n",
       "  <thead>\n",
       "    <tr style=\"text-align: right;\">\n",
       "      <th></th>\n",
       "      <th>timestamp</th>\n",
       "      <th>temperature</th>\n",
       "      <th>rain</th>\n",
       "      <th>wind_speed</th>\n",
       "      <th>cloud_cover</th>\n",
       "    </tr>\n",
       "  </thead>\n",
       "  <tbody>\n",
       "    <tr>\n",
       "      <th>0</th>\n",
       "      <td>2024-12-31 03:04:04</td>\n",
       "      <td>7.431852</td>\n",
       "      <td>0.0</td>\n",
       "      <td>10.086634</td>\n",
       "      <td>8.0</td>\n",
       "    </tr>\n",
       "    <tr>\n",
       "      <th>1</th>\n",
       "      <td>2024-12-31 04:04:04</td>\n",
       "      <td>7.232051</td>\n",
       "      <td>0.0</td>\n",
       "      <td>8.300623</td>\n",
       "      <td>8.0</td>\n",
       "    </tr>\n",
       "    <tr>\n",
       "      <th>2</th>\n",
       "      <td>2024-12-31 05:04:04</td>\n",
       "      <td>6.914214</td>\n",
       "      <td>0.0</td>\n",
       "      <td>8.952930</td>\n",
       "      <td>8.0</td>\n",
       "    </tr>\n",
       "    <tr>\n",
       "      <th>3</th>\n",
       "      <td>2024-12-31 06:04:04</td>\n",
       "      <td>6.500000</td>\n",
       "      <td>0.0</td>\n",
       "      <td>9.223544</td>\n",
       "      <td>8.0</td>\n",
       "    </tr>\n",
       "    <tr>\n",
       "      <th>4</th>\n",
       "      <td>2024-12-31 07:04:04</td>\n",
       "      <td>6.017638</td>\n",
       "      <td>0.0</td>\n",
       "      <td>8.096308</td>\n",
       "      <td>8.0</td>\n",
       "    </tr>\n",
       "  </tbody>\n",
       "</table>\n",
       "</div>"
      ],
      "text/plain": [
       "            timestamp  temperature  rain  wind_speed  cloud_cover\n",
       "0 2024-12-31 03:04:04     7.431852   0.0   10.086634          8.0\n",
       "1 2024-12-31 04:04:04     7.232051   0.0    8.300623          8.0\n",
       "2 2024-12-31 05:04:04     6.914214   0.0    8.952930          8.0\n",
       "3 2024-12-31 06:04:04     6.500000   0.0    9.223544          8.0\n",
       "4 2024-12-31 07:04:04     6.017638   0.0    8.096308          8.0"
      ]
     },
     "metadata": {},
     "output_type": "display_data"
    },
    {
     "name": "stdout",
     "output_type": "stream",
     "text": [
      "\n",
      "Value Ranges:\n",
      "temperature: -3.00 to 10.60\n",
      "rain: 0.00 to 2.75\n",
      "wind_speed: 0.63 to 12.85\n",
      "cloud_cover: 3.00 to 8.00\n",
      "\n",
      "Data saved to ../data/raw/weather_data.csv\n",
      "Records: 744\n",
      "Date range: 2024-12-31 03:04:04 to 2025-01-31 02:04:04\n"
     ]
    },
    {
     "ename": "AttributeError",
     "evalue": "'WeatherDataCollector' object has no attribute 'get_locations'",
     "output_type": "error",
     "traceback": [
      "\u001b[1;31m---------------------------------------------------------------------------\u001b[0m",
      "\u001b[1;31mAttributeError\u001b[0m                            Traceback (most recent call last)",
      "Cell \u001b[1;32mIn[4], line 50\u001b[0m\n\u001b[0;32m     48\u001b[0m weather_collector\u001b[38;5;241m.\u001b[39msave_data(weather_data, \u001b[38;5;124m'\u001b[39m\u001b[38;5;124m../data/raw/weather_data.csv\u001b[39m\u001b[38;5;124m'\u001b[39m)\n\u001b[0;32m     49\u001b[0m \u001b[38;5;66;03m# Get locations\u001b[39;00m\n\u001b[1;32m---> 50\u001b[0m locations \u001b[38;5;241m=\u001b[39m \u001b[43mweather_collector\u001b[49m\u001b[38;5;241;43m.\u001b[39;49m\u001b[43mget_locations\u001b[49m()\n\u001b[0;32m     52\u001b[0m \u001b[38;5;66;03m# Save locations data\u001b[39;00m\n\u001b[0;32m     53\u001b[0m weather_collector\u001b[38;5;241m.\u001b[39msave_locations(locations, \u001b[38;5;124m'\u001b[39m\u001b[38;5;124mdata/raw/locations.csv\u001b[39m\u001b[38;5;124m'\u001b[39m)\n",
      "\u001b[1;31mAttributeError\u001b[0m: 'WeatherDataCollector' object has no attribute 'get_locations'"
     ]
    }
   ],
   "source": [
    "# Initialize weather data collector\n",
    "weather_collector = WeatherDataCollector()\n",
    "\n",
    "# Define exact date range to match bike data\n",
    "start_date = datetime(2024, 12, 31, 3, 4, 4)\n",
    "end_date = datetime(2025, 1, 31, 2, 4, 4)\n",
    "\n",
    "print(\"=== Input Validation ===\")\n",
    "print(f\"Start date: {start_date}\")\n",
    "print(f\"End date: {end_date}\")\n",
    "print(f\"Total days: {(end_date - start_date).days + 1}\")\n",
    "print(f\"Expected hours: {((end_date - start_date).total_seconds() / 3600):.2f}\")\n",
    "\n",
    "# Get daily weather data first\n",
    "print(\"\\n=== Collecting Daily Weather Data ===\")\n",
    "daily_data = weather_collector._get_daily_data(start_date, end_date)\n",
    "\n",
    "if daily_data is not None:\n",
    "    print(f\"\\nGot {len(daily_data)} days of data\")\n",
    "    print(\"Daily data date range:\")\n",
    "    print(f\"Start: {daily_data['timestamp'].min()}\")\n",
    "    print(f\"End: {daily_data['timestamp'].max()}\")\n",
    "    print(\"\\nDaily data sample:\")\n",
    "    display(daily_data.head())\n",
    "\n",
    "    # Convert to hourly\n",
    "    print(\"\\n=== Converting to Hourly Data ===\")\n",
    "    weather_data = weather_collector._convert_to_hourly(daily_data, start_date, end_date)\n",
    "\n",
    "    # Display validation\n",
    "    if weather_data is not None:\n",
    "        print(\"\\n=== Final Data Validation ===\")\n",
    "        print(f\"Total records: {len(weather_data)}\")\n",
    "        print(\"\\nTimestamp Analysis:\")\n",
    "        print(f\"First timestamp: {weather_data['timestamp'].min()}\")\n",
    "        print(f\"Last timestamp: {weather_data['timestamp'].max()}\")\n",
    "        print(f\"Number of unique days: {weather_data['timestamp'].dt.date.nunique()}\")\n",
    "        print(f\"Hours per day: {len(weather_data) / weather_data['timestamp'].dt.date.nunique():.2f}\")\n",
    "        \n",
    "        print(\"\\nHourly data sample:\")\n",
    "        display(weather_data.head())\n",
    "        \n",
    "        print(\"\\nValue Ranges:\")\n",
    "        for col in ['temperature', 'rain', 'wind_speed', 'cloud_cover']:\n",
    "            print(f\"{col}: {weather_data[col].min():.2f} to {weather_data[col].max():.2f}\")\n",
    "        \n",
    "        # Save data\n",
    "        weather_collector.save_data(weather_data, '../data/raw/weather_data.csv')\n",
    "        # Get locations\n",
    "        locations = weather_collector.get_locations()\n",
    "\n",
    "        # Save locations data\n",
    "        weather_collector.save_locations(locations, 'data/raw/locations.csv')"
   ]
  },
  {
   "cell_type": "code",
   "execution_count": null,
   "metadata": {},
   "outputs": [],
   "source": []
  }
 ],
 "metadata": {
  "hide_input": false,
  "kernelspec": {
   "display_name": "Python 3 (ipykernel)",
   "language": "python",
   "name": "python3"
  },
  "language_info": {
   "codemirror_mode": {
    "name": "ipython",
    "version": 3
   },
   "file_extension": ".py",
   "mimetype": "text/x-python",
   "name": "python",
   "nbconvert_exporter": "python",
   "pygments_lexer": "ipython3",
   "version": "3.10.9"
  },
  "nbTranslate": {
   "displayLangs": [
    "*"
   ],
   "hotkey": "alt-t",
   "langInMainMenu": true,
   "sourceLang": "en",
   "targetLang": "fr",
   "useGoogleTranslate": true
  },
  "toc": {
   "base_numbering": 1,
   "nav_menu": {},
   "number_sections": true,
   "sideBar": true,
   "skip_h1_title": false,
   "title_cell": "Table of Contents",
   "title_sidebar": "Contents",
   "toc_cell": false,
   "toc_position": {},
   "toc_section_display": true,
   "toc_window_display": false
  },
  "varInspector": {
   "cols": {
    "lenName": 16,
    "lenType": 16,
    "lenVar": 40
   },
   "kernels_config": {
    "python": {
     "delete_cmd_postfix": "",
     "delete_cmd_prefix": "del ",
     "library": "var_list.py",
     "varRefreshCmd": "print(var_dic_list())"
    },
    "r": {
     "delete_cmd_postfix": ") ",
     "delete_cmd_prefix": "rm(",
     "library": "var_list.r",
     "varRefreshCmd": "cat(var_dic_list()) "
    }
   },
   "types_to_exclude": [
    "module",
    "function",
    "builtin_function_or_method",
    "instance",
    "_Feature"
   ],
   "window_display": false
  }
 },
 "nbformat": 4,
 "nbformat_minor": 4
}
