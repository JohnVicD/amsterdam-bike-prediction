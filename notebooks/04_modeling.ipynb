{
 "cells": [
  {
   "cell_type": "markdown",
   "metadata": {},
   "source": [
    "# Amsterdam Bike Usage Prediction - Modeling"
   ]
  },
  {
   "cell_type": "code",
   "execution_count": 1,
   "metadata": {
    "ExecuteTime": {
     "end_time": "2025-01-30T03:46:27.751238Z",
     "start_time": "2025-01-30T03:46:25.495633Z"
    }
   },
   "outputs": [],
   "source": [
    "import sys\n",
    "sys.path.append('..')\n",
    "\n",
    "from src.models.prophet_model import BikeUsagePredictor\n",
    "import pandas as pd\n",
    "from datetime import datetime, timedelta"
   ]
  },
  {
   "cell_type": "markdown",
   "metadata": {},
   "source": [
    "## 1. Load Processed Data"
   ]
  },
  {
   "cell_type": "code",
   "execution_count": 2,
   "metadata": {
    "ExecuteTime": {
     "end_time": "2025-01-30T03:46:31.337380Z",
     "start_time": "2025-01-30T03:46:31.290397Z"
    }
   },
   "outputs": [
    {
     "name": "stdout",
     "output_type": "stream",
     "text": [
      "   hour  day_of_week  month     count  location_id       timestamp_hour  \\\n",
      "0     4            1     12  0.034483            1  2024-12-31 04:00:00   \n",
      "1     4            1     12  0.018678            2  2024-12-31 04:00:00   \n",
      "2     4            1     12  0.024425            3  2024-12-31 04:00:00   \n",
      "3     5            1     12  0.048851            1  2024-12-31 05:00:00   \n",
      "4     5            1     12  0.028736            2  2024-12-31 05:00:00   \n",
      "\n",
      "   temperature  rain  wind_speed  cloud_cover                   timestamp  \\\n",
      "0     0.752357   0.0    0.715256          8.0  2024-12-31 04:56:59.990346   \n",
      "1     0.752357   0.0    0.715256          8.0  2024-12-31 04:56:59.990346   \n",
      "2     0.752357   0.0    0.715256          8.0  2024-12-31 04:56:59.990346   \n",
      "3     0.728986   0.0    0.761610          8.0  2024-12-31 05:56:59.990346   \n",
      "4     0.728986   0.0    0.761610          8.0  2024-12-31 05:56:59.990346   \n",
      "\n",
      "   hour_sin  hour_cos  is_weekend  is_rush_hour  \n",
      "0  0.866025  0.500000           0             0  \n",
      "1  0.866025  0.500000           0             0  \n",
      "2  0.866025  0.500000           0             0  \n",
      "3  0.965926  0.258819           0             0  \n",
      "4  0.965926  0.258819           0             0  \n"
     ]
    }
   ],
   "source": [
    "# Load processed data\n",
    "df = pd.read_csv('../data/processed/processed_data.csv')\n",
    "print(df.head())"
   ]
  },
  {
   "cell_type": "markdown",
   "metadata": {},
   "source": [
    "## 2. Train Prophet Model"
   ]
  },
  {
   "cell_type": "code",
   "execution_count": 3,
   "metadata": {
    "ExecuteTime": {
     "end_time": "2025-01-30T03:47:09.522667Z",
     "start_time": "2025-01-30T03:47:06.601667Z"
    },
    "scrolled": true
   },
   "outputs": [
    {
     "name": "stdout",
     "output_type": "stream",
     "text": [
      "\n",
      "Forecast Summary:1\n",
      "Preparing data for training...\n",
      "Adding regressors...\n",
      "Training model...\n"
     ]
    },
    {
     "name": "stderr",
     "output_type": "stream",
     "text": [
      "09:31:38 - cmdstanpy - INFO - Chain [1] start processing\n",
      "09:31:38 - cmdstanpy - INFO - Chain [1] done processing\n"
     ]
    },
    {
     "name": "stdout",
     "output_type": "stream",
     "text": [
      "Model training completed!\n",
      "\n",
      "Forecast Summary:2\n",
      "Generating predictions for next 24 H...\n",
      "\n",
      "Forecast Summary:\n",
      "                            ds      yhat  yhat_lower  yhat_upper\n",
      "762 2025-01-31 22:56:59.990346  0.270231    0.096605    0.438654\n",
      "763 2025-01-31 23:56:59.990346  0.216044    0.054052    0.385829\n",
      "764 2025-02-01 00:56:59.990346  0.153282    0.000000    0.329380\n",
      "765 2025-02-01 01:56:59.990346  0.094203    0.000000    0.268157\n",
      "766 2025-02-01 02:56:59.990346  0.053766    0.000000    0.225723\n",
      "\n",
      "Model Performance Metrics:\n",
      "MAE: 0.10\n",
      "RMSE: 0.13\n",
      "MAPE: inf\n"
     ]
    },
    {
     "name": "stderr",
     "output_type": "stream",
     "text": [
      "f:\\OperationSadana\\amsterdam_bike_prediction\\notebooks\\..\\src\\models\\prophet_model.py:121: RuntimeWarning: divide by zero encountered in divide\n",
      "  mape = np.mean(np.abs((y_true - y_pred) / y_true)) * 100\n"
     ]
    }
   ],
   "source": [
    "# Initialize predictor\n",
    "predictor = BikeUsagePredictor()\n",
    "print(\"\\nForecast Summary:1\")\n",
    "# Train model\n",
    "predictor.train(df)\n",
    "print(\"\\nForecast Summary:2\")\n",
    "# Make predictions for next 24 hours with default regressor values\n",
    "forecast = predictor.predict(periods=24)\n",
    "\n",
    "# Print forecast summary\n",
    "print(\"\\nForecast Summary:\")\n",
    "print(forecast[['ds', 'yhat', 'yhat_lower', 'yhat_upper']].tail())\n",
    "\n",
    "# Evaluate model\n",
    "metrics = predictor.evaluate(df)\n",
    "print(\"\\nModel Performance Metrics:\")\n",
    "for metric, value in metrics.items():\n",
    "    print(f\"{metric}: {value:.2f}\")"
   ]
  },
  {
   "cell_type": "code",
   "execution_count": null,
   "metadata": {},
   "outputs": [],
   "source": []
  },
  {
   "cell_type": "markdown",
   "metadata": {},
   "source": [
    "## 3. Evaluate Model Performance"
   ]
  },
  {
   "cell_type": "code",
   "execution_count": 4,
   "metadata": {
    "ExecuteTime": {
     "end_time": "2025-01-30T01:54:42.523242Z",
     "start_time": "2025-01-30T01:54:42.473570Z"
    }
   },
   "outputs": [
    {
     "name": "stdout",
     "output_type": "stream",
     "text": [
      "\n",
      "Model Performance Metrics:\n",
      "MAE: 0.10\n",
      "RMSE: 0.13\n",
      "MAPE: inf\n",
      "Model saved to models/saved_models/prophet_model.joblib\n"
     ]
    },
    {
     "name": "stderr",
     "output_type": "stream",
     "text": [
      "f:\\OperationSadana\\amsterdam_bike_prediction\\notebooks\\..\\src\\models\\prophet_model.py:121: RuntimeWarning: divide by zero encountered in divide\n",
      "  mape = np.mean(np.abs((y_true - y_pred) / y_true)) * 100\n"
     ]
    }
   ],
   "source": [
    "# Evaluate model\n",
    "metrics = predictor.evaluate(df)\n",
    "print(\"\\nModel Performance Metrics:\")\n",
    "for metric, value in metrics.items():\n",
    "    print(f\"{metric}: {value:.2f}\")\n",
    "\n",
    "# Save model\n",
    "predictor.save_model()"
   ]
  },
  {
   "cell_type": "code",
   "execution_count": null,
   "metadata": {},
   "outputs": [],
   "source": []
  }
 ],
 "metadata": {
  "hide_input": false,
  "kernelspec": {
   "display_name": "base",
   "language": "python",
   "name": "python3"
  },
  "language_info": {
   "codemirror_mode": {
    "name": "ipython",
    "version": 3
   },
   "file_extension": ".py",
   "mimetype": "text/x-python",
   "name": "python",
   "nbconvert_exporter": "python",
   "pygments_lexer": "ipython3",
   "version": "3.10.9"
  },
  "nbTranslate": {
   "displayLangs": [
    "*"
   ],
   "hotkey": "alt-t",
   "langInMainMenu": true,
   "sourceLang": "en",
   "targetLang": "fr",
   "useGoogleTranslate": true
  },
  "toc": {
   "base_numbering": 1,
   "nav_menu": {},
   "number_sections": true,
   "sideBar": true,
   "skip_h1_title": false,
   "title_cell": "Table of Contents",
   "title_sidebar": "Contents",
   "toc_cell": false,
   "toc_position": {},
   "toc_section_display": true,
   "toc_window_display": false
  },
  "varInspector": {
   "cols": {
    "lenName": 16,
    "lenType": 16,
    "lenVar": 40
   },
   "kernels_config": {
    "python": {
     "delete_cmd_postfix": "",
     "delete_cmd_prefix": "del ",
     "library": "var_list.py",
     "varRefreshCmd": "print(var_dic_list())"
    },
    "r": {
     "delete_cmd_postfix": ") ",
     "delete_cmd_prefix": "rm(",
     "library": "var_list.r",
     "varRefreshCmd": "cat(var_dic_list()) "
    }
   },
   "types_to_exclude": [
    "module",
    "function",
    "builtin_function_or_method",
    "instance",
    "_Feature"
   ],
   "window_display": false
  }
 },
 "nbformat": 4,
 "nbformat_minor": 4
}
